{
 "cells": [
  {
   "cell_type": "code",
   "execution_count": 5,
   "id": "820ec043-807c-4ae5-bde8-fb061b09692b",
   "metadata": {},
   "outputs": [],
   "source": [
    "import TableParser\n",
    "import SimpleTableParser\n",
    "import pandas as pd"
   ]
  },
  {
   "cell_type": "code",
   "execution_count": 2,
   "id": "9f37dc20-05fd-4851-9881-6bbc4f8cd442",
   "metadata": {},
   "outputs": [],
   "source": [
    "simpleTableParser = SimpleTableParser.SimpleTableParser()"
   ]
  },
  {
   "cell_type": "code",
   "execution_count": 3,
   "id": "04ce269f-f0b4-43ae-816e-4f514908f219",
   "metadata": {},
   "outputs": [],
   "source": [
    "tableParser = TableParser.TableParser(simpleTableParser)"
   ]
  },
  {
   "cell_type": "code",
   "execution_count": 6,
   "id": "7fe81cf2-48c9-4b51-a055-d54a6753972c",
   "metadata": {},
   "outputs": [],
   "source": [
    "series = pd.Series([\"09-01-2021\",\"07-02-2021\"])"
   ]
  },
  {
   "cell_type": "code",
   "execution_count": null,
   "id": "8f371e6a-a6b5-42f8-b6bb-f89a1c641f97",
   "metadata": {},
   "outputs": [],
   "source": []
  }
 ],
 "metadata": {
  "kernelspec": {
   "display_name": "Python 3",
   "language": "python",
   "name": "python3"
  },
  "language_info": {
   "codemirror_mode": {
    "name": "ipython",
    "version": 3
   },
   "file_extension": ".py",
   "mimetype": "text/x-python",
   "name": "python",
   "nbconvert_exporter": "python",
   "pygments_lexer": "ipython3",
   "version": "3.8.0"
  }
 },
 "nbformat": 4,
 "nbformat_minor": 5
}
