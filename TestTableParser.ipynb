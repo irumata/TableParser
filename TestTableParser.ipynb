{
 "cells": [
  {
   "cell_type": "code",
   "execution_count": null,
   "id": "820ec043-807c-4ae5-bde8-fb061b09692b",
   "metadata": {},
   "outputs": [],
   "source": [
    "import TableParser\n",
    "import TestTableParser\n",
    "import pandas as pd"
   ]
  },
  {
   "cell_type": "code",
   "execution_count": null,
   "id": "9f37dc20-05fd-4851-9881-6bbc4f8cd442",
   "metadata": {},
   "outputs": [],
   "source": [
    "testTableParser =  TestTableParser.TestTableParser()"
   ]
  },
  {
   "cell_type": "code",
   "execution_count": null,
   "id": "04ce269f-f0b4-43ae-816e-4f514908f219",
   "metadata": {},
   "outputs": [],
   "source": [
    "tableParser = TableParser.TableParser(testTableParser)"
   ]
  },
  {
   "cell_type": "code",
   "execution_count": null,
   "id": "7fe81cf2-48c9-4b51-a055-d54a6753972c",
   "metadata": {},
   "outputs": [],
   "source": []
  },
  {
   "cell_type": "code",
   "execution_count": null,
   "id": "8f371e6a-a6b5-42f8-b6bb-f89a1c641f97",
   "metadata": {},
   "outputs": [],
   "source": []
  },
  {
   "cell_type": "code",
   "execution_count": null,
   "id": "35c24f0d-dc16-43dc-8d4c-0a02a80bd16b",
   "metadata": {},
   "outputs": [],
   "source": [
    "# testTableParser.fix_xlsx('file2.xlsx')\n",
    "\n",
    "# df = pd.read_excel('file2.xlsx')\n",
    "# testTableParser.all_action(df)\n",
    "testTableParser = TestTableParser()\n",
    "xlsx = pd.ExcelFile('file44.xlsx')\n",
    "names = xlsx.sheet_names\n",
    "sheet_to_df_map = {}\n",
    "for i  in range(len(names)):\n",
    "    sheet_to_df_map[names[i]] = testTableParser.all_action(pd.read_excel(open('file44.xlsx', 'rb'),header=None,sheet_name=names[i]))\n",
    "    "
   ]
  },
  {
   "cell_type": "code",
   "execution_count": null,
   "id": "de6bb3ef-940b-431a-93f1-91621e1fd4c3",
   "metadata": {},
   "outputs": [],
   "source": []
  }
 ],
 "metadata": {
  "kernelspec": {
   "display_name": "Python 3 (ipykernel)",
   "language": "python",
   "name": "python3"
  },
  "language_info": {
   "codemirror_mode": {
    "name": "ipython",
    "version": 3
   },
   "file_extension": ".py",
   "mimetype": "text/x-python",
   "name": "python",
   "nbconvert_exporter": "python",
   "pygments_lexer": "ipython3",
   "version": "3.7.7"
  }
 },
 "nbformat": 4,
 "nbformat_minor": 5
}
