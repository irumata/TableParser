{
 "cells": [
  {
   "cell_type": "code",
   "execution_count": 13,
   "id": "820ec043-807c-4ae5-bde8-fb061b09692b",
   "metadata": {},
   "outputs": [],
   "source": [
    "import TableParser\n",
    "import SimpleTableParser\n",
    "import TestTableParser\n",
    "import pandas as pd"
   ]
  },
  {
   "cell_type": "code",
   "execution_count": 14,
   "id": "9f37dc20-05fd-4851-9881-6bbc4f8cd442",
   "metadata": {},
   "outputs": [],
   "source": [
    "simpleTableParser = SimpleTableParser.SimpleTableParser()\n",
    "testTableParser =  TestTableParser.TestTableParser()"
   ]
  },
  {
   "cell_type": "code",
   "execution_count": 15,
   "id": "04ce269f-f0b4-43ae-816e-4f514908f219",
   "metadata": {},
   "outputs": [],
   "source": [
    "tableParser = TableParser.TableParser(testTableParser)"
   ]
  },
  {
   "cell_type": "code",
   "execution_count": 16,
   "id": "7fe81cf2-48c9-4b51-a055-d54a6753972c",
   "metadata": {},
   "outputs": [
    {
     "data": {
      "text/plain": [
       "0    09 01!2021\n",
       "1    07-02-2021\n",
       "2    07.02.2O21\n",
       "3    O7.02.2O21\n",
       "4    O7/02/2O21\n",
       "5    O7@02@2O21\n",
       "6    O7]02[2O21\n",
       "7    O7~02|2O21\n",
       "dtype: object"
      ]
     },
     "execution_count": 16,
     "metadata": {},
     "output_type": "execute_result"
    }
   ],
   "source": [
    "series = pd.Series([\"09 01!2021\", \"07-02-2021\", \"07.02.2O21\", \"O7.02.2O21\",\"O7/02/2O21\",'O7@02@2O21','O7]02[2O21','O7~02|2O21'])\n",
    "series"
   ]
  },
  {
   "cell_type": "code",
   "execution_count": 17,
   "id": "8f371e6a-a6b5-42f8-b6bb-f89a1c641f97",
   "metadata": {},
   "outputs": [
    {
     "data": {
      "text/plain": [
       "[0   2021-09-01\n",
       " 1   2021-07-02\n",
       " 2   2021-07-02\n",
       " 3   2021-07-02\n",
       " 4   2021-07-02\n",
       " 5   2021-07-02\n",
       " 6   2021-07-02\n",
       " 7   2021-07-02\n",
       " dtype: datetime64[ns],\n",
       " []]"
      ]
     },
     "execution_count": 17,
     "metadata": {},
     "output_type": "execute_result"
    }
   ],
   "source": [
    "tableParser.parse(series)"
   ]
  },
  {
   "cell_type": "code",
   "execution_count": null,
   "id": "3c8a6c81-75a5-46f9-9702-48ee70399cd9",
   "metadata": {},
   "outputs": [],
   "source": []
  },
  {
   "cell_type": "code",
   "execution_count": null,
   "id": "35c24f0d-dc16-43dc-8d4c-0a02a80bd16b",
   "metadata": {},
   "outputs": [],
   "source": []
  }
 ],
 "metadata": {
  "kernelspec": {
   "display_name": "Python 3 (ipykernel)",
   "language": "python",
   "name": "python3"
  },
  "language_info": {
   "codemirror_mode": {
    "name": "ipython",
    "version": 3
   },
   "file_extension": ".py",
   "mimetype": "text/x-python",
   "name": "python",
   "nbconvert_exporter": "python",
   "pygments_lexer": "ipython3",
   "version": "3.7.7"
  }
 },
 "nbformat": 4,
 "nbformat_minor": 5
}
