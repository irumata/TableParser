{
 "cells": [
  {
   "cell_type": "code",
   "execution_count": 1,
   "id": "0af5634e-98ed-456a-bf02-ce209446f66a",
   "metadata": {},
   "outputs": [],
   "source": [
    "import TableParser\n",
    "import pandas as pd\n",
    "import tempfile, zipfile\n",
    "import os\n",
    "import numpy as np\n",
    "import datetime\n",
    "from collections import Counter\n",
    "import time"
   ]
  },
  {
   "cell_type": "code",
   "execution_count": 2,
   "id": "3c5f998d-ef00-46a1-bfb6-bf75e206ef8e",
   "metadata": {},
   "outputs": [],
   "source": [
    "class TestTableParser(TableParser.TableParserItem):\n",
    "    def __init__(self):\n",
    "        pass\n",
    "    \n",
    "    def parse(self, series: pd.Series):\n",
    "        mistake = {\n",
    "            \"00:00:00\":'','0:00':'',\n",
    "            'Jan':'01','Feb': '02','Mar':'03','Apr':'04','May':'05','Jun':'06','Jul':'07','Aug':'08','Sept':'09','Oct':'10','Nov':'11','Dec':'12',\n",
    "            'o': '0','l': '1','b': '6','g': '9','q': '9','t': '7','v': '5','G': '6','F': '7','Z': '2','Q': '2','B': '8','O': '0','D': '0','E': '3','A': '4','S': '5',\n",
    "            r'[ -/]|[:-@]|[\\[-_]|[{-~]': '-',\n",
    "        }\n",
    "        for key, val in mistake.items():\n",
    "            series = series.str.strip().str.replace(key, val, regex=True)\n",
    "        return (pd.to_datetime(series, errors=\"coerce\"), [])\n",
    "\n",
    "    def fix_xlsx(self, in_file):\n",
    "        tmpfd, tmp = tempfile.mkstemp(dir=os.path.dirname(in_file))\n",
    "        os.close(tmpfd)\n",
    "        filename = '[Content_Types].xml'\n",
    "        data = ''\n",
    "        with zipfile.ZipFile(in_file, 'r') as zin:\n",
    "            with zipfile.ZipFile(tmp, 'w') as zout:\n",
    "                for item in zin.infolist():\n",
    "                    if item.filename != filename:\n",
    "                        zout.writestr(item, zin.read(item.filename))\n",
    "                    else:\n",
    "                        data = zin.read(filename).decode()\n",
    "        os.remove(in_file)\n",
    "        os.rename(tmp, in_file)\n",
    "        data = data.replace('/xl/sharedStrings.xml', '/xl/SharedStrings.xml')\n",
    "        with zipfile.ZipFile(in_file, mode='a', compression=zipfile.ZIP_DEFLATED) as zf:\n",
    "            zf.writestr(filename, data)\n",
    "            \n",
    "    def orientation_determine(self,df):\n",
    "        list_columns = []\n",
    "        for j in range(df.shape[1]):\n",
    "            list_columns.append(pd.to_numeric(df.iloc[:,j],errors='coerce').dropna())\n",
    "        clear_df = pd.concat(list_columns,axis=1)\n",
    "        if clear_df.shape[0] > clear_df.shape[1]:\n",
    "            return True\n",
    "        else: return False\n",
    "        \n",
    "    def find_start_point(self,clear_df):\n",
    "        start_point = 0\n",
    "        for i in range(clear_df.shape[0]):\n",
    "            if len(clear_df.iloc[i,:].dropna()) > 2:\n",
    "                start_point = i\n",
    "                break\n",
    "        return start_point\n",
    "    \n",
    "    def define_type_of_cell(self,clear_df,df_data,start_point):\n",
    "        columns_types = {}\n",
    "        for j in range(clear_df.shape[1]):\n",
    "            baff = clear_df.iloc[:,j].dropna()\n",
    "            if baff.sum() != 0:\n",
    "                if baff.dtype == pd.Float64Dtype():\n",
    "                    columns_types[j] = 'float'\n",
    "                else: columns_types[j] = 'int'\n",
    "            else:\n",
    "                if type(testTableParser.parse(df_data.iloc[:,j].astype(str))[0][start_point]) == type(pd.to_datetime('31.01.2002')):\n",
    "                    columns_types[j] = 'date'\n",
    "                elif baff.dtype == pd.BooleanDtype():\n",
    "                    columns_types[j] = 'bool'\n",
    "                else: columns_types[j] = 'str'\n",
    "        return columns_types\n",
    "    \n",
    "    def define_breakline(self,clear_df,columns_types):\n",
    "        null_list,index_list= [],[]\n",
    "        for j in range(clear_df.shape[1]):\n",
    "            if columns_types[j] == 'int':\n",
    "                null_list.append(clear_df.iloc[:,j])\n",
    "        int_df = pd.concat(null_list,axis=1)\n",
    "        count = Counter(columns_types.values())\n",
    "        for i in range(int_df.shape[0]):\n",
    "            if int_df.iloc[i,:].isnull().sum() == count.get('int'):\n",
    "                index_list.append(i)\n",
    "\n",
    "        return index_list\n",
    "\n",
    "    def create_list_of_table(self,df,break_line,start_point):\n",
    "        return [df.iloc[:break_line[0]+start_point,:],df.iloc[break_line[0]+start_point:,:]]\n",
    "            \n",
    "    def json_creator(self,df,orientation,columns_types):\n",
    "        return {\"IsVerticalOrientation,\":orientation,\n",
    "               \"Index rows\":[df.index.tolist()],\n",
    "               \"columns types\": columns_types,\n",
    "                \"mistake fix\":[{\"row\": 0,\n",
    "                                \"column\": 0,\n",
    "                                \"new value\": object,\n",
    "                                \"old value\":object,\n",
    "                                \"probability\":100,\n",
    "                                \"user approve\":False,\n",
    "                                \"comment\":bool    \n",
    "                                }]\n",
    "               }\n",
    "        \n",
    "    def create_header(self,df,start_point):\n",
    "        topic = df.iloc[:start_point,:].fillna(method='ffill',axis=1)\n",
    "        list_topic = []\n",
    "        for i in range(topic.shape[1]):\n",
    "            list_topic.append(\"__\".join(list(topic.iloc[:,i].astype(str))).replace(\"__nan\",\"\").replace(\"nan__\",\"\"))\n",
    "        df_data = df.iloc[start_point:]\n",
    "        df_data.columns = list_topic\n",
    "        return df_data   \n",
    "\n",
    "    def to_numeric_func(self,df):\n",
    "        list_columns = []\n",
    "        for j in range(df.shape[1]):\n",
    "            list_columns.append(pd.to_numeric(df.iloc[:,j],errors='coerce').convert_dtypes())\n",
    "        clear_df = pd.concat(list_columns,axis=1)\n",
    "#         start = time.time()\n",
    "#         end = time.time()\n",
    "#         print(end - start)\n",
    "        return clear_df\n",
    "\n",
    "    def all_action(self,df): # <-----    drive method\n",
    "        orientation = self.orientation_determine(df)\n",
    "#         orientation = True\n",
    "        print(orientation)\n",
    "        if orientation== False:\n",
    "            df = df.T\n",
    "            \n",
    "        clear_df = self.to_numeric_func(df)\n",
    "        start_point = self.find_start_point(clear_df)\n",
    "        columns_types = self.define_type_of_cell(clear_df.iloc[start_point:,:],df.iloc[start_point:,:],start_point)\n",
    "        break_line = self.define_breakline(clear_df.iloc[start_point:,:],columns_types)\n",
    "        if  len(break_line) == 0:\n",
    "            json = self.json_creator(df,orientation,columns_types)\n",
    "#             print(\"finded innn :\"+ str(start_point))\n",
    "            done_df = self.create_header(df,start_point)\n",
    "#             print(json)\n",
    "            return [done_df]\n",
    "\n",
    "        else:\n",
    "            list_df = self.create_list_of_table(df,break_line,start_point)\n",
    "            answer_df = []\n",
    "            for i in range(len(list_df)):\n",
    "                clear_df = self.to_numeric_func(list_df[i])\n",
    "                start_point = self.find_start_point(clear_df)\n",
    "                done_df = self.create_header(list_df[i],start_point)\n",
    "                answer_df.append(done_df)\n",
    "            return answer_df\n",
    "            \n",
    "\n",
    "\n",
    "        "
   ]
  },
  {
   "cell_type": "code",
   "execution_count": 10,
   "id": "3f904149-b9b3-46c9-9620-8aac54354164",
   "metadata": {},
   "outputs": [
    {
     "name": "stdout",
     "output_type": "stream",
     "text": [
      "True\n"
     ]
    },
    {
     "name": "stderr",
     "output_type": "stream",
     "text": [
      "/Library/Frameworks/Python.framework/Versions/3.7/lib/python3.7/site-packages/dateutil/parser/_parser.py:1212: UnknownTimezoneWarning: tzname C identified but not understood.  Pass `tzinfos` argument in order to correctly return a timezone-aware datetime.  In a future version, this will raise an exception.\n",
      "  category=UnknownTimezoneWarning)\n"
     ]
    }
   ],
   "source": [
    "# df = pd.read_csv(\"file44.csv\",encoding='unicode_escape',header=None)\n",
    "testTableParser = TestTableParser()\n",
    "# df = pd.read_excel(open('file44.xlsx', 'rb'),header=None,sheet_name='Worksheet')\n",
    "# df = pd.read_excel(\"file22.xlsx\",header=None)\n",
    "# print(df.shape)\n",
    "# print(df.iloc[1,:])\n",
    "# df = testTableParser.all_action(df)\n",
    "# df[0]\n",
    "\n",
    "xlsx = pd.ExcelFile('file44.xlsx')\n",
    "names = xlsx.sheet_names\n",
    "sheet_to_df_map = {}\n",
    "for i  in range(len(names)):\n",
    "    sheet_to_df_map[names[i]] = testTableParser.all_action(pd.read_excel(open('file44.xlsx', 'rb'),header=None,sheet_name=names[i]))\n",
    "    "
   ]
  },
  {
   "cell_type": "code",
   "execution_count": null,
   "id": "9bb35483-591b-4f62-adfc-3c17faa7fbbb",
   "metadata": {},
   "outputs": [],
   "source": [
    "sheet_to_df_map.get('TDSheet')[0]"
   ]
  },
  {
   "cell_type": "code",
   "execution_count": null,
   "id": "1acac0a2-1225-47d2-8d37-3e85f87edcb4",
   "metadata": {},
   "outputs": [],
   "source": [
    "# dict_keys(['Стадо 1 ', 'Стадо 2  ', 'Стадо 3 ', 'Стадо 4 ', 'Стадо 5 ', 'Стадо 6', 'Стадо 7', 'Стадо 8', 'Стадо 9', 'Стадо 10 ', 'Стадо 11', 'Стадо 12', 'Стадо 13'])"
   ]
  },
  {
   "cell_type": "code",
   "execution_count": 236,
   "id": "24a427c7-3f64-4996-8508-f642c3964959",
   "metadata": {},
   "outputs": [
    {
     "data": {
      "text/plain": [
       "0    <class 'float'>\n",
       "1    <class 'float'>\n",
       "2    <class 'float'>\n",
       "3    <class 'float'>\n",
       "4    <class 'float'>\n",
       "dtype: object"
      ]
     },
     "execution_count": 236,
     "metadata": {},
     "output_type": "execute_result"
    }
   ],
   "source": [
    "df = pd.read_excel(\"file44.xlsx\",header=None)\n",
    "s = pd.Series([234.0,32.9,1,4,14])\n",
    "# s = pd.to_numeric(df.iloc[:,0],errors='coerce').dropna()\n",
    "s = s.convert_dtypes()\n",
    "s.map(type)\n",
    "# s.dtype == pd.Float64Dtype()\n",
    "# s.dtype == pd.Int64Dtype()"
   ]
  },
  {
   "cell_type": "code",
   "execution_count": 8,
   "id": "7cf923a7-6f9c-4562-8511-bb6d4d7e84ff",
   "metadata": {},
   "outputs": [
    {
     "data": {
      "text/plain": [
       "[1, 6]"
      ]
     },
     "execution_count": 8,
     "metadata": {},
     "output_type": "execute_result"
    }
   ],
   "source": [
    "s = pd.Series([234.0,np.nan,32.9,1,4,14,np.nan])\n",
    "s[s.isnull()].index.tolist()"
   ]
  },
  {
   "cell_type": "code",
   "execution_count": 111,
   "id": "5ea3a677-1bcd-4eda-bd7a-c81b61209521",
   "metadata": {},
   "outputs": [
    {
     "data": {
      "text/plain": [
       "0      <NA>\n",
       "1     234.0\n",
       "2      32.9\n",
       "3      <NA>\n",
       "4       1.0\n",
       "5       4.0\n",
       "6      14.0\n",
       "7      12.4\n",
       "8      34.2\n",
       "9      <NA>\n",
       "10     <NA>\n",
       "dtype: Float64"
      ]
     },
     "execution_count": 111,
     "metadata": {},
     "output_type": "execute_result"
    }
   ],
   "source": [
    "s = pd.Series(['a',234.0,32.9,'ayan',1,4,14,'12.4','34.2','21a','a'])\n",
    "pd.to_numeric(s,errors='coerce').convert_dtypes()"
   ]
  },
  {
   "cell_type": "code",
   "execution_count": 112,
   "id": "f93f4e5a-a6bb-40c3-980d-a39460ac5cb7",
   "metadata": {},
   "outputs": [
    {
     "data": {
      "text/plain": [
       "[0, 3, 9, 10]"
      ]
     },
     "execution_count": 112,
     "metadata": {},
     "output_type": "execute_result"
    }
   ],
   "source": [
    "s[s.astype(str).str.contains('a')].index.to_list()"
   ]
  },
  {
   "cell_type": "code",
   "execution_count": 127,
   "id": "14415be8-4b0e-4ee8-98b5-b4a03f25b822",
   "metadata": {},
   "outputs": [],
   "source": [
    "def find_errors(s):\n",
    "    mistake = {'o': '0','l': '1','b': '6','g': '9','q': '9','t': '7','v': '5','G': '6','F': '7','Z': '2','Q': '2','B': '8','O': '0','D': '0','E': '3','A': '4','S': '5'}\n",
    "    finded_error = {}\n",
    "    for key, val in mistake.items():\n",
    "        if len(s[s.astype(str).str.contains(key).dropna()].index.to_list()) != 0:\n",
    "            finded_error[key] = [mistake.get(key),s[s.astype(str).str.contains(key)].index.to_list()]\n",
    "        s = s.astype(str).str.strip().str.replace(key, val, regex=True)\n",
    "    return [s,finded_error]"
   ]
  },
  {
   "cell_type": "code",
   "execution_count": 128,
   "id": "989a99ff-e878-42a3-93fa-a3520acd24f2",
   "metadata": {},
   "outputs": [],
   "source": [
    "null_list = [pd.Series(['A',234.0,32.9,'E',1,4,14,'l2.4','34D.2','21l','q','S']),\n",
    "             pd.Series(['22o',234.0,32.9,'b',1,4,14,'12.v','34.g','21F','t'])\n",
    "            ]\n",
    "int_df = pd.concat(null_list,axis=1)\n",
    "# int_df"
   ]
  },
  {
   "cell_type": "code",
   "execution_count": 129,
   "id": "16b72723-085d-4890-9f31-326a0764be80",
   "metadata": {},
   "outputs": [],
   "source": [
    "list_right_data = []\n",
    "mistake_index_list = []\n",
    "for j in range(int_df.shape[1]):\n",
    "#     s = pd.Series(['A.5',234.0,32.9,'E.23',1,4,14,'12.4','34D.2','21','q.2','S.9'])\n",
    "    buff = find_errors(int_df.iloc[:,j])\n",
    "    list_right_data.append(pd.to_numeric(buff[0],errors='coerce').convert_dtypes())\n",
    "    mistake_index_list.append(buff[1])\n",
    "ans_df = pd.concat(list_right_data,axis=1)"
   ]
  },
  {
   "cell_type": "code",
   "execution_count": 130,
   "id": "78152742-1263-4251-8dac-e41ae1123250",
   "metadata": {},
   "outputs": [
    {
     "data": {
      "text/plain": [
       "[{'l': ['1', [7, 9]],\n",
       "  'q': ['9', [10]],\n",
       "  'D': ['0', [8]],\n",
       "  'E': ['3', [3]],\n",
       "  'A': ['4', [0]],\n",
       "  'S': ['5', [11]]},\n",
       " {'o': ['0', [0]],\n",
       "  'b': ['6', [3]],\n",
       "  'g': ['9', [8]],\n",
       "  't': ['7', [10]],\n",
       "  'v': ['5', [7]],\n",
       "  'F': ['7', [9]]}]"
      ]
     },
     "execution_count": 130,
     "metadata": {},
     "output_type": "execute_result"
    }
   ],
   "source": [
    "mistake_index_list"
   ]
  },
  {
   "cell_type": "code",
   "execution_count": 131,
   "id": "253ff3f3-87bd-487d-9293-5c5960d153bc",
   "metadata": {},
   "outputs": [
    {
     "data": {
      "text/html": [
       "<div>\n",
       "<style scoped>\n",
       "    .dataframe tbody tr th:only-of-type {\n",
       "        vertical-align: middle;\n",
       "    }\n",
       "\n",
       "    .dataframe tbody tr th {\n",
       "        vertical-align: top;\n",
       "    }\n",
       "\n",
       "    .dataframe thead th {\n",
       "        text-align: right;\n",
       "    }\n",
       "</style>\n",
       "<table border=\"1\" class=\"dataframe\">\n",
       "  <thead>\n",
       "    <tr style=\"text-align: right;\">\n",
       "      <th></th>\n",
       "      <th>0</th>\n",
       "      <th>1</th>\n",
       "    </tr>\n",
       "  </thead>\n",
       "  <tbody>\n",
       "    <tr>\n",
       "      <th>0</th>\n",
       "      <td>4.0</td>\n",
       "      <td>220.0</td>\n",
       "    </tr>\n",
       "    <tr>\n",
       "      <th>1</th>\n",
       "      <td>234.0</td>\n",
       "      <td>234.0</td>\n",
       "    </tr>\n",
       "    <tr>\n",
       "      <th>2</th>\n",
       "      <td>32.9</td>\n",
       "      <td>32.9</td>\n",
       "    </tr>\n",
       "    <tr>\n",
       "      <th>3</th>\n",
       "      <td>3.0</td>\n",
       "      <td>6.0</td>\n",
       "    </tr>\n",
       "    <tr>\n",
       "      <th>4</th>\n",
       "      <td>1.0</td>\n",
       "      <td>1.0</td>\n",
       "    </tr>\n",
       "    <tr>\n",
       "      <th>5</th>\n",
       "      <td>4.0</td>\n",
       "      <td>4.0</td>\n",
       "    </tr>\n",
       "    <tr>\n",
       "      <th>6</th>\n",
       "      <td>14.0</td>\n",
       "      <td>14.0</td>\n",
       "    </tr>\n",
       "    <tr>\n",
       "      <th>7</th>\n",
       "      <td>12.4</td>\n",
       "      <td>12.5</td>\n",
       "    </tr>\n",
       "    <tr>\n",
       "      <th>8</th>\n",
       "      <td>340.2</td>\n",
       "      <td>34.9</td>\n",
       "    </tr>\n",
       "    <tr>\n",
       "      <th>9</th>\n",
       "      <td>211.0</td>\n",
       "      <td>217.0</td>\n",
       "    </tr>\n",
       "    <tr>\n",
       "      <th>10</th>\n",
       "      <td>9.0</td>\n",
       "      <td>7.0</td>\n",
       "    </tr>\n",
       "    <tr>\n",
       "      <th>11</th>\n",
       "      <td>5.0</td>\n",
       "      <td>&lt;NA&gt;</td>\n",
       "    </tr>\n",
       "  </tbody>\n",
       "</table>\n",
       "</div>"
      ],
      "text/plain": [
       "        0      1\n",
       "0     4.0  220.0\n",
       "1   234.0  234.0\n",
       "2    32.9   32.9\n",
       "3     3.0    6.0\n",
       "4     1.0    1.0\n",
       "5     4.0    4.0\n",
       "6    14.0   14.0\n",
       "7    12.4   12.5\n",
       "8   340.2   34.9\n",
       "9   211.0  217.0\n",
       "10    9.0    7.0\n",
       "11    5.0   <NA>"
      ]
     },
     "execution_count": 131,
     "metadata": {},
     "output_type": "execute_result"
    }
   ],
   "source": [
    "ans_df"
   ]
  },
  {
   "cell_type": "code",
   "execution_count": 99,
   "id": "db970b86-a866-432e-91e1-0154a02f6066",
   "metadata": {},
   "outputs": [
    {
     "data": {
      "text/plain": [
       "0    Float64\n",
       "1    Float64\n",
       "dtype: object"
      ]
     },
     "execution_count": 99,
     "metadata": {},
     "output_type": "execute_result"
    }
   ],
   "source": [
    "ans_df.dtypes"
   ]
  },
  {
   "cell_type": "code",
   "execution_count": 102,
   "id": "8fcbf864-cbd5-4a54-9fcb-b4ff0e89c310",
   "metadata": {},
   "outputs": [
    {
     "data": {
      "text/plain": [
       "[{'l': [7, 9], 'q': [10], 'D': [8], 'E': [3], 'A': [0], 'S': [11]},\n",
       " {'o': [0], 'b': [3], 'g': [8], 't': [10], 'v': [7], 'F': [9]}]"
      ]
     },
     "execution_count": 102,
     "metadata": {},
     "output_type": "execute_result"
    }
   ],
   "source": []
  },
  {
   "cell_type": "code",
   "execution_count": 119,
   "id": "7981f26e-9caf-4798-915f-ced4ec70c63b",
   "metadata": {},
   "outputs": [],
   "source": [
    "#         print([type(each) for each in df.iloc[:,4]])\n",
    "# <class 'datetime.datetime'>"
   ]
  },
  {
   "cell_type": "code",
   "execution_count": 577,
   "id": "0aa9f4e9-e343-44bc-91ae-c25a15c5713a",
   "metadata": {},
   "outputs": [
    {
     "data": {
      "text/plain": [
       "<class 'str'>    2824\n",
       "Name: 5, dtype: int64"
      ]
     },
     "execution_count": 577,
     "metadata": {},
     "output_type": "execute_result"
    }
   ],
   "source": [
    "df.iloc[:,5].apply(type).value_counts()\n"
   ]
  },
  {
   "cell_type": "code",
   "execution_count": 118,
   "id": "cbaff632-39ea-40e8-9807-e4315081c564",
   "metadata": {},
   "outputs": [],
   "source": [
    " mistake = {'o': '0','l': '1','b': '6','g': '9','q': '9','t': '7','v': '5','G': '6','F': '7','Z': '2','Q': '2','B': '8','O': '0','D': '0','E': '3','A': '4','S': '5'}"
   ]
  },
  {
   "cell_type": "code",
   "execution_count": 121,
   "id": "61e9c5e8-fb6c-41cb-85e8-360a6be5115d",
   "metadata": {},
   "outputs": [
    {
     "data": {
      "text/plain": [
       "'1'"
      ]
     },
     "execution_count": 121,
     "metadata": {},
     "output_type": "execute_result"
    }
   ],
   "source": [
    "mistake.get('l')"
   ]
  },
  {
   "cell_type": "code",
   "execution_count": null,
   "id": "6a5e64e2-b33a-4bb1-b767-800d9fdb3fe8",
   "metadata": {},
   "outputs": [],
   "source": []
  },
  {
   "cell_type": "code",
   "execution_count": null,
   "id": "a7da9e6f-9380-4255-b3ba-6114285b623f",
   "metadata": {},
   "outputs": [],
   "source": []
  },
  {
   "cell_type": "code",
   "execution_count": null,
   "id": "2874ce48-8e1e-4186-a50d-358762fe0adf",
   "metadata": {},
   "outputs": [],
   "source": []
  },
  {
   "cell_type": "code",
   "execution_count": null,
   "id": "a7b57803-1c1b-43d6-add0-6dba1dd3f3ff",
   "metadata": {},
   "outputs": [],
   "source": []
  },
  {
   "cell_type": "code",
   "execution_count": null,
   "id": "d797436b-0262-4c35-bc49-e66fa49ea625",
   "metadata": {},
   "outputs": [],
   "source": []
  },
  {
   "cell_type": "code",
   "execution_count": null,
   "id": "cd4da835-6224-4906-8ddb-1cca9b1cbe96",
   "metadata": {},
   "outputs": [],
   "source": []
  }
 ],
 "metadata": {
  "kernelspec": {
   "display_name": "Python 3 (ipykernel)",
   "language": "python",
   "name": "python3"
  },
  "language_info": {
   "codemirror_mode": {
    "name": "ipython",
    "version": 3
   },
   "file_extension": ".py",
   "mimetype": "text/x-python",
   "name": "python",
   "nbconvert_exporter": "python",
   "pygments_lexer": "ipython3",
   "version": "3.7.7"
  }
 },
 "nbformat": 4,
 "nbformat_minor": 5
}
